{
 "cells": [
  {
   "cell_type": "code",
   "execution_count": null,
   "metadata": {},
   "outputs": [],
   "source": [
    "# !pip install google.colab  # 在google colab上執行時安裝\n",
    "# !pip install ipykernel  # 若在jupyter notebook,則是裝ipykernel"
   ]
  },
  {
   "cell_type": "code",
   "execution_count": 23,
   "metadata": {},
   "outputs": [
    {
     "name": "stdout",
     "output_type": "stream",
     "text": [
      "Requirement already satisfied: torch in /opt/anaconda3/envs/ispan_ml/lib/python3.10/site-packages (2.6.0)\n",
      "Requirement already satisfied: torchvision in /opt/anaconda3/envs/ispan_ml/lib/python3.10/site-packages (0.21.0)\n",
      "Requirement already satisfied: torchaudio in /opt/anaconda3/envs/ispan_ml/lib/python3.10/site-packages (2.6.0)\n",
      "Requirement already satisfied: filelock in /opt/anaconda3/envs/ispan_ml/lib/python3.10/site-packages (from torch) (3.17.0)\n",
      "Requirement already satisfied: typing-extensions>=4.10.0 in /opt/anaconda3/envs/ispan_ml/lib/python3.10/site-packages (from torch) (4.12.2)\n",
      "Requirement already satisfied: networkx in /opt/anaconda3/envs/ispan_ml/lib/python3.10/site-packages (from torch) (3.4.2)\n",
      "Requirement already satisfied: jinja2 in /opt/anaconda3/envs/ispan_ml/lib/python3.10/site-packages (from torch) (3.1.4)\n",
      "Requirement already satisfied: fsspec in /opt/anaconda3/envs/ispan_ml/lib/python3.10/site-packages (from torch) (2024.12.0)\n",
      "Requirement already satisfied: sympy==1.13.1 in /opt/anaconda3/envs/ispan_ml/lib/python3.10/site-packages (from torch) (1.13.1)\n",
      "Requirement already satisfied: mpmath<1.4,>=1.1.0 in /opt/anaconda3/envs/ispan_ml/lib/python3.10/site-packages (from sympy==1.13.1->torch) (1.3.0)\n",
      "Requirement already satisfied: numpy in /opt/anaconda3/envs/ispan_ml/lib/python3.10/site-packages (from torchvision) (1.26.4)\n",
      "Requirement already satisfied: pillow!=8.3.*,>=5.3.0 in /opt/anaconda3/envs/ispan_ml/lib/python3.10/site-packages (from torchvision) (11.1.0)\n",
      "Requirement already satisfied: MarkupSafe>=2.0 in /opt/anaconda3/envs/ispan_ml/lib/python3.10/site-packages (from jinja2->torch) (2.1.3)\n"
     ]
    }
   ],
   "source": [
    "!pip install torch torchvision torchaudio"
   ]
  },
  {
   "cell_type": "code",
   "execution_count": 24,
   "metadata": {},
   "outputs": [
    {
     "name": "stdout",
     "output_type": "stream",
     "text": [
      "PyTorch 版本: 2.6.0\n",
      "Metal GPU 是否可用: True\n",
      "使用裝置: mps\n"
     ]
    }
   ],
   "source": [
    "##### 設定GPU\n",
    "import torch\n",
    "\n",
    "# 檢查 PyTorch 版本\n",
    "print(\"PyTorch 版本:\", torch.__version__)\n",
    "\n",
    "# 檢查 Metal GPU 是否可用(Mac版)\n",
    "mps_available = torch.backends.mps.is_available()\n",
    "print(\"Metal GPU 是否可用:\", torch.backends.mps.is_available())\n",
    "\n",
    "# 設定裝置\n",
    "device = torch.device(\"mps\") if mps_available else torch.device(\"cpu\")\n",
    "print(\"使用裝置:\", device)"
   ]
  },
  {
   "cell_type": "code",
   "execution_count": 25,
   "metadata": {},
   "outputs": [
    {
     "name": "stdout",
     "output_type": "stream",
     "text": [
      "torch 版本: 2.6.0\n",
      "torchvision 版本: 0.21.0\n",
      "torchaudio 版本: 2.6.0\n",
      "transformers 版本: 4.49.0\n",
      "datasets 版本: 3.3.1\n",
      "evaluate 版本: 0.4.3\n",
      "accelerate 版本: 1.4.0\n",
      "scikit-learn 版本: 1.6.1\n",
      "importlib.metadata 版本: 8.5.0\n"
     ]
    }
   ],
   "source": [
    "# 相關套件版本號\n",
    "import importlib.metadata\n",
    "\n",
    "def get_package_version(package_name):\n",
    "    try:\n",
    "        version = importlib.metadata.version(package_name)\n",
    "        return f\"{package_name} 版本: {version}\"\n",
    "    except importlib.metadata.PackageNotFoundError:\n",
    "        return f\"{package_name} 未安裝\"\n",
    "\n",
    "# 要查詢的套件\n",
    "packages = [\"torch\", \"torchvision\", \"torchaudio\", \"transformers\", \"datasets\", \"evaluate\", \"accelerate\", \"scikit-learn\",\"importlib.metadata\"]\n",
    "\n",
    "# 取得版本資訊\n",
    "for package in packages:\n",
    "    print(get_package_version(package))\n"
   ]
  },
  {
   "cell_type": "code",
   "execution_count": 26,
   "metadata": {},
   "outputs": [],
   "source": [
    "# 載入套件 & 取得資料\n",
    "from datasets import load_dataset, Dataset, DatasetDict\n",
    "from transformers import (\n",
    "    AutoTokenizer, # 斷詞\n",
    "    AutoModelForSequenceClassification,\n",
    "    TrainingArguments,\n",
    "    Trainer,\n",
    "    DataCollatorWithPadding,)\n",
    "import random\n",
    "from sklearn.metrics import f1_score # 分類模型的評估指標：Precision 和 Recall 的 調和平均數\n",
    "\n",
    "# 讀取資料\n",
    "data = load_dataset(\"Johnson8187/Chinese_Multi-Emotion_Dialogue_Dataset\")\n",
    "\n",
    "# 情緒分類\n",
    "emotion_mapping = {\n",
    "    \"平淡語氣\": 0,\n",
    "    \"關切語調\": 1,\n",
    "    \"開心語調\": 2,\n",
    "    \"憤怒語調\": 3,\n",
    "    \"悲傷語調\": 4,\n",
    "    \"疑問語調\": 5,\n",
    "    \"驚奇語調\": 6,\n",
    "    \"厭惡語調\": 7\n",
    "}\n",
    "\n",
    "# 將情緒分類轉換成數字\n",
    "data = data.map(lambda x: {\"emotion\": emotion_mapping[x[\"emotion\"]]})\n"
   ]
  },
  {
   "cell_type": "code",
   "execution_count": 27,
   "metadata": {},
   "outputs": [],
   "source": [
    "##### 微調模型\n",
    "'''\n",
    "函式\n",
    "'''\n",
    "# 讀取 dataset\n",
    "def load_dataset_from_file(file_path, seed=42):\n",
    "    # 洗牌 (記得設定 random seed，確保每次洗牌結果一樣)\n",
    "    random.seed(seed)\n",
    "    random.shuffle(file_path)\n",
    "\n",
    "    # 整合訓練資料\n",
    "    sentences = [] # 給句子用\n",
    "    labels = [] # 給答案用\n",
    "\n",
    "    for text, index in zip(data[\"train\"][\"text\"], data[\"train\"][\"emotion\"]):\n",
    "        sentences.append(text)\n",
    "        labels.append(index)\n",
    "\n",
    "    return sentences, labels # 回傳文字內容與標籤\n",
    "\n",
    "\n",
    "# 轉換成 huggingface trainer 可以使用的 datasets\n",
    "def convert_to_dataset(sentences, labels, tokenizer, max_seq_length):\n",
    "    # 建立 Dataset\n",
    "    dataset = Dataset.from_dict({\n",
    "        'sentences': sentences,\n",
    "        'labels': labels\n",
    "    })\n",
    "\n",
    "    # 回傳切分資料 (訓練 和 驗證)\n",
    "    dataset = dataset.train_test_split(test_size=0.2)\n",
    "\n",
    "    # 預處理資料\n",
    "    def preprocess_data(dataset):\n",
    "        # 將句子轉換為 token (tokenization)\n",
    "        return tokenizer(\n",
    "            dataset['sentences'], # 詞\n",
    "            truncation=True,\n",
    "            padding=True, # 如果沒有這一段就需要用校正器\n",
    "            return_tensors='pt', # pytorch\n",
    "            max_length=max_seq_length # 樣本數\n",
    "        )\n",
    "\n",
    "    # 轉換資料\n",
    "    train_data = dataset['train'].map(preprocess_data, batched=True)\n",
    "    valid_data = dataset['test'].map(preprocess_data, batched=True)\n",
    "\n",
    "    return DatasetDict({ # 轉成huggingface可看懂的格式\n",
    "        'train': train_data,\n",
    "        'test': valid_data\n",
    "    })\n",
    "\n",
    "# 計算模型評估指標\n",
    "def compute_metrics(predicted_results):\n",
    "    labels = predicted_results.label_ids\n",
    "    preds = predicted_results.predictions.argmax(-1)\n",
    "\n",
    "    f1 = f1_score(labels, preds, average='weighted') # binary（二元類別）, micro, macro, weighted（多類別）\n",
    "    return {\n",
    "        'f1': f1,\n",
    "    }\n"
   ]
  },
  {
   "cell_type": "code",
   "execution_count": 28,
   "metadata": {},
   "outputs": [
    {
     "name": "stdout",
     "output_type": "stream",
     "text": [
      "0.5714285714285714\n"
     ]
    }
   ],
   "source": [
    "from sklearn.metrics import f1_score\n",
    "\n",
    "# 驗證 F1 score 算法\n",
    "y_true = [0,0,1,1,1,0,0]\n",
    "y_pred = [0,1,0,1,1,1,0]\n",
    "# y_true = [0,2,1,2,1,0,1]\n",
    "# y_pred = [0,1,0,2,1,1,2]\n",
    "print(f1_score(y_true, y_pred, average='weighted')) # binary, micro, macro"
   ]
  },
  {
   "cell_type": "code",
   "execution_count": 29,
   "metadata": {},
   "outputs": [
    {
     "name": "stderr",
     "output_type": "stream",
     "text": [
      "Map: 100%|██████████| 3327/3327 [00:00<00:00, 15903.83 examples/s]\n",
      "Map: 100%|██████████| 832/832 [00:00<00:00, 16854.68 examples/s]\n",
      "Some weights of BertForSequenceClassification were not initialized from the model checkpoint at google-bert/bert-base-chinese and are newly initialized: ['classifier.bias', 'classifier.weight']\n",
      "You should probably TRAIN this model on a down-stream task to be able to use it for predictions and inference.\n"
     ]
    },
    {
     "data": {
      "text/html": [
       "\n",
       "    <div>\n",
       "      \n",
       "      <progress value='156' max='156' style='width:300px; height:20px; vertical-align: middle;'></progress>\n",
       "      [156/156 01:18, Epoch 3/3]\n",
       "    </div>\n",
       "    <table border=\"1\" class=\"dataframe\">\n",
       "  <thead>\n",
       " <tr style=\"text-align: left;\">\n",
       "      <th>Step</th>\n",
       "      <th>Training Loss</th>\n",
       "      <th>Validation Loss</th>\n",
       "      <th>F1</th>\n",
       "    </tr>\n",
       "  </thead>\n",
       "  <tbody>\n",
       "    <tr>\n",
       "      <td>50</td>\n",
       "      <td>No log</td>\n",
       "      <td>1.384277</td>\n",
       "      <td>0.688566</td>\n",
       "    </tr>\n",
       "    <tr>\n",
       "      <td>100</td>\n",
       "      <td>No log</td>\n",
       "      <td>0.513814</td>\n",
       "      <td>0.846187</td>\n",
       "    </tr>\n",
       "    <tr>\n",
       "      <td>150</td>\n",
       "      <td>No log</td>\n",
       "      <td>0.410678</td>\n",
       "      <td>0.870775</td>\n",
       "    </tr>\n",
       "  </tbody>\n",
       "</table><p>"
      ],
      "text/plain": [
       "<IPython.core.display.HTML object>"
      ]
     },
     "metadata": {},
     "output_type": "display_data"
    }
   ],
   "source": [
    "# 主程式 - 微調模型\n",
    "if __name__ == \"__main__\":\n",
    "    '''\n",
    "    設定 hyperparameters\n",
    "    '''\n",
    "    model_name = 'google-bert/bert-base-chinese' # 預訓練模型名稱\n",
    "    max_seq_length = 512 # 可訓練的序列最大長度\n",
    "    num_labels = 8 # 八元分類\n",
    "    output_dir = './output' # 輸出模型資料夾\n",
    "\n",
    "    # 讀取訓練資料\n",
    "    sentences, labels = load_dataset_from_file(data)\n",
    "\n",
    "    # 載入 tokenizer\n",
    "    tokenizer = AutoTokenizer.from_pretrained(model_name)\n",
    "\n",
    "    # 將資料轉換為 huggingface 可以使用的格式\n",
    "    dataset = convert_to_dataset(\n",
    "        sentences, \n",
    "        labels, \n",
    "        tokenizer, \n",
    "        max_seq_length\n",
    "    )\n",
    "\n",
    "    # 讀取模型\n",
    "    model = AutoModelForSequenceClassification.from_pretrained(\n",
    "        model_name, \n",
    "        num_labels=num_labels\n",
    "    )\n",
    "\n",
    "    # 設定訓練參數\n",
    "    training_args = TrainingArguments(\n",
    "        output_dir=output_dir, # 輸出資料夾\n",
    "        overwrite_output_dir=True,\n",
    "        num_train_epochs=3, # 訓練回合數\n",
    "        per_device_train_batch_size=32, # 批次大小\n",
    "        per_device_eval_batch_size=32, # 批次大小\n",
    "        gradient_accumulation_steps=2,\n",
    "        learning_rate=0.00003, # 學習率 5e-5\n",
    "        warmup_steps=100,\n",
    "        weight_decay=0.01,\n",
    "        eval_strategy=\"steps\", # epoch, steps, no\n",
    "        eval_steps=50,\n",
    "        save_strategy=\"steps\", # epoch, steps, no\n",
    "        save_steps=50,\n",
    "        save_total_limit=2,\n",
    "        load_best_model_at_end=True,\n",
    "        seed=42, # 隨機種子\n",
    "        # lr_scheduler_type=\"linear\", # https://blog.csdn.net/muyao987/article/details/139319466\n",
    "        # report_to='wandb', # https://wandb.ai/\n",
    "    )\n",
    "\n",
    "    # 設定 Trainer\n",
    "    trainer = Trainer(\n",
    "        model=model,\n",
    "        args=training_args,\n",
    "        train_dataset=dataset['train'],\n",
    "        eval_dataset=dataset['test'],\n",
    "        data_collator=DataCollatorWithPadding(tokenizer),\n",
    "        compute_metrics=compute_metrics,\n",
    "    )\n",
    "\n",
    "    # 開始訓練\n",
    "    trainer.train()\n",
    "\n",
    "    # 儲存模型\n",
    "    trainer.save_model(output_dir) # , safe_serialization=True\n",
    "\n",
    "    # 儲存 tokenizer\n",
    "    tokenizer.save_pretrained(output_dir)"
   ]
  },
  {
   "cell_type": "code",
   "execution_count": 30,
   "metadata": {},
   "outputs": [
    {
     "name": "stderr",
     "output_type": "stream",
     "text": [
      "Device set to use mps:0\n"
     ]
    },
    {
     "name": "stdout",
     "output_type": "stream",
     "text": [
      "------------------------------------------------------------\n",
      "中文句子:我每天都能跟她一起上學，我好開心！\n",
      "句子情緒:開心語調\n",
      "情緒分數: 0.97\n",
      "------------------------------------------------------------\n",
      "中文句子:最好的朋友要離開臺灣了，以後可能不容易再見面...\n",
      "句子情緒:悲傷語調\n",
      "情緒分數: 0.95\n",
      "------------------------------------------------------------\n",
      "中文句子:我覺得我快不行了\n",
      "句子情緒:悲傷語調\n",
      "情緒分數: 0.84\n",
      "------------------------------------------------------------\n",
      "中文句子:剛剛收到研究所錄取的通知書！\n",
      "句子情緒:開心語調\n",
      "情緒分數: 0.95\n",
      "------------------------------------------------------------\n",
      "中文句子:今年的冬天好像比較晚來。\n",
      "句子情緒:平淡語氣\n",
      "情緒分數: 0.93\n",
      "------------------------------------------------------------\n",
      "中文句子:有人在背後說我胖！幹! \n",
      "句子情緒:憤怒語調\n",
      "情緒分數: 0.94\n"
     ]
    }
   ],
   "source": [
    "##### 測試微調好的模型\n",
    "\n",
    "from transformers import (\n",
    "    AutoTokenizer,\n",
    "    AutoModelForSequenceClassification,\n",
    "    pipeline,\n",
    ")\n",
    "from pprint import pprint\n",
    "\n",
    "model_dir = './output'\n",
    "model = AutoModelForSequenceClassification.from_pretrained(model_dir)\n",
    "tokenizer = AutoTokenizer.from_pretrained(model_dir)\n",
    "pipe = pipeline(\n",
    "    task='text-classification', \n",
    "    model=model, \n",
    "    tokenizer=tokenizer, \n",
    "    device=0\n",
    "    )\n",
    "\n",
    "list_text = [\n",
    "    \"我每天都能跟她一起上學，我好開心！\",\n",
    "\t\"最好的朋友要離開臺灣了，以後可能不容易再見面...\",\n",
    "\t\"我覺得我快不行了\",\n",
    "\t\"剛剛收到研究所錄取的通知書！\",\n",
    "\t\"今年的冬天好像比較晚來。\",\n",
    "    \"有人在背後說我胖！幹! \"  \n",
    "]\n",
    "result = pipe(list_text)\n",
    "reverse_emotion_mapping = {j: k for k, j in emotion_mapping.items()}\n",
    "\n",
    "for i in range(len(list_text)):\n",
    "    print(\"-\"*60)\n",
    "    print(f\"中文句子:{list_text[i]}\")\n",
    "    label_No = int(result[i]['label'][-1])\n",
    "    print(f\"句子情緒:{reverse_emotion_mapping[label_No]}\")\n",
    "    print(f\"情緒分數: {round(result[i]['score'], 2)}\")\n"
   ]
  },
  {
   "cell_type": "code",
   "execution_count": null,
   "metadata": {},
   "outputs": [],
   "source": []
  }
 ],
 "metadata": {
  "kernelspec": {
   "display_name": "ispan_ml",
   "language": "python",
   "name": "python3"
  },
  "language_info": {
   "codemirror_mode": {
    "name": "ipython",
    "version": 3
   },
   "file_extension": ".py",
   "mimetype": "text/x-python",
   "name": "python",
   "nbconvert_exporter": "python",
   "pygments_lexer": "ipython3",
   "version": "3.10.13"
  }
 },
 "nbformat": 4,
 "nbformat_minor": 2
}
