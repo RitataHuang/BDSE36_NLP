{
 "cells": [
  {
   "cell_type": "code",
   "execution_count": 3,
   "metadata": {},
   "outputs": [
    {
     "name": "stderr",
     "output_type": "stream",
     "text": [
      "Device set to use mps:0\n"
     ]
    },
    {
     "name": "stdout",
     "output_type": "stream",
     "text": [
      "------------------------------------------------------------\n",
      "中文句子:我每天都能跟她一起上學，我好開心！\n",
      "句子情緒:開心語調\n",
      "情緒分數: 0.97\n",
      "------------------------------------------------------------\n",
      "中文句子:最好的朋友要離開臺灣了，以後可能不容易再見面...\n",
      "句子情緒:悲傷語調\n",
      "情緒分數: 0.95\n",
      "------------------------------------------------------------\n",
      "中文句子:我覺得我快不行了\n",
      "句子情緒:悲傷語調\n",
      "情緒分數: 0.84\n",
      "------------------------------------------------------------\n",
      "中文句子:剛剛收到研究所錄取的通知書！\n",
      "句子情緒:開心語調\n",
      "情緒分數: 0.95\n",
      "------------------------------------------------------------\n",
      "中文句子:今年的冬天好像比較晚來。\n",
      "句子情緒:平淡語氣\n",
      "情緒分數: 0.93\n",
      "------------------------------------------------------------\n",
      "中文句子:有人在背後說我胖！幹! \n",
      "句子情緒:憤怒語調\n",
      "情緒分數: 0.94\n"
     ]
    }
   ],
   "source": [
    "##### 測試微調好的模型\n",
    "from transformers import (\n",
    "    AutoTokenizer,\n",
    "    AutoModelForSequenceClassification,\n",
    "    pipeline,\n",
    ")\n",
    "from pprint import pprint\n",
    "\n",
    "model_dir = './output'\n",
    "model = AutoModelForSequenceClassification.from_pretrained(model_dir)\n",
    "tokenizer = AutoTokenizer.from_pretrained(model_dir)\n",
    "pipe = pipeline(\n",
    "    task='text-classification', \n",
    "    model=model, \n",
    "    tokenizer=tokenizer, \n",
    "    device=0\n",
    "    )\n",
    "\n",
    "list_text = [\n",
    "    \"我每天都能跟她一起上學，我好開心！\",\n",
    "\t\"最好的朋友要離開臺灣了，以後可能不容易再見面...\",\n",
    "\t\"我覺得我快不行了\",\n",
    "\t\"剛剛收到研究所錄取的通知書！\",\n",
    "\t\"今年的冬天好像比較晚來。\",\n",
    "    \"有人在背後說我胖！幹! \"  \n",
    "]\n",
    "\n",
    "# 情緒分類\n",
    "emotion_mapping = {\n",
    "    \"平淡語氣\": 0,\n",
    "    \"關切語調\": 1,\n",
    "    \"開心語調\": 2,\n",
    "    \"憤怒語調\": 3,\n",
    "    \"悲傷語調\": 4,\n",
    "    \"疑問語調\": 5,\n",
    "    \"驚奇語調\": 6,\n",
    "    \"厭惡語調\": 7\n",
    "}\n",
    "\n",
    "result = pipe(list_text)\n",
    "reverse_emotion_mapping = {j: k for k, j in emotion_mapping.items()}\n",
    "\n",
    "for i in range(len(list_text)):\n",
    "    print(\"-\"*60)\n",
    "    print(f\"中文句子:{list_text[i]}\")\n",
    "    label_No = int(result[i]['label'][-1])\n",
    "    print(f\"句子情緒:{reverse_emotion_mapping[label_No]}\")\n",
    "    print(f\"情緒分數: {round(result[i]['score'], 2)}\")\n"
   ]
  },
  {
   "cell_type": "code",
   "execution_count": null,
   "metadata": {},
   "outputs": [],
   "source": []
  }
 ],
 "metadata": {
  "kernelspec": {
   "display_name": "ispan_ml",
   "language": "python",
   "name": "python3"
  },
  "language_info": {
   "codemirror_mode": {
    "name": "ipython",
    "version": 3
   },
   "file_extension": ".py",
   "mimetype": "text/x-python",
   "name": "python",
   "nbconvert_exporter": "python",
   "pygments_lexer": "ipython3",
   "version": "3.10.13"
  }
 },
 "nbformat": 4,
 "nbformat_minor": 2
}
